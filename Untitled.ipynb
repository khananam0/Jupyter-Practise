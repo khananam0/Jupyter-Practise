{
 "cells": [
  {
   "cell_type": "code",
   "execution_count": 3,
   "id": "1d675d31",
   "metadata": {},
   "outputs": [
    {
     "name": "stdout",
     "output_type": "stream",
     "text": [
      "then a[i]= [1, 1, 1] a[j]= [1, 1, 1]\n",
      "then a[i]= [1, 0, 1] a[j]= [1, 0, 1]\n",
      "then a[i]= [1, 0, 0] a[j]= [0, 0, 0]\n",
      "then a[i]= [0, 0, 1] a[j]= [1, 0, 0]\n",
      "then a[i]= [0, 1, 1] a[j]= [0, 1, 1]\n",
      "then a[i]= [0, 1, 0] a[j]= [0, 0, 0]\n",
      "then a[i]= [1, 0, 0] a[j]= [1, 0, 0]\n",
      "then a[i]= [1, 1, 0] a[j]= [0, 1, 0]\n",
      "then a[i]= [1, 1, 1] a[j]= [1, 1, 1]\n"
     ]
    }
   ],
   "source": [
    "A=[[1,1,0],[1,0,1],[0,0,0]]\n",
    "for i in range(len(A)):\n",
    "    A[i] = A[i][::-1]\n",
    "#     print(\"A[i]=\",A[i])\n",
    "    for j in range(len(A[i])):\n",
    "#         print('a[i]=',A[i],'a[j]=',A[j])\n",
    "        A[i][j] = 1 - A[i][j]\n",
    "        print('then a[i]=',A[i],'a[j]=',A[j])\n",
    "#         print('A=',A)\n"
   ]
  },
  {
   "cell_type": "code",
   "execution_count": 12,
   "id": "6caf7cbd",
   "metadata": {},
   "outputs": [],
   "source": [
    "A=[[1,1,0],[1,0,1],[0,0,0]]\n",
    "for i in range(len(A)):\n",
    "    A[i] = A[i][::-1]\n",
    "    for j in range(len(A[i])):\n",
    "        A[i][j] = 1 - A[i][j]\n",
    "# print(A)"
   ]
  },
  {
   "cell_type": "code",
   "execution_count": 15,
   "id": "8f586400",
   "metadata": {},
   "outputs": [
    {
     "name": "stdout",
     "output_type": "stream",
     "text": [
      "[0, 1, 1]\n",
      "1\n",
      "[[1, 1, 1], [1, 0, 1], [0, 0, 0]]\n",
      "0\n",
      "[[1, 0, 1], [1, 0, 1], [0, 0, 0]]\n",
      "0\n",
      "[[1, 0, 0], [1, 0, 1], [0, 0, 0]]\n",
      "[1, 0, 1]\n",
      "0\n",
      "[[1, 0, 0], [0, 0, 1], [0, 0, 0]]\n",
      "1\n",
      "[[1, 0, 0], [0, 1, 1], [0, 0, 0]]\n",
      "0\n",
      "[[1, 0, 0], [0, 1, 0], [0, 0, 0]]\n",
      "[0, 0, 0]\n",
      "1\n",
      "[[1, 0, 0], [0, 1, 0], [1, 0, 0]]\n",
      "1\n",
      "[[1, 0, 0], [0, 1, 0], [1, 1, 0]]\n",
      "1\n",
      "[[1, 0, 0], [0, 1, 0], [1, 1, 1]]\n"
     ]
    }
   ],
   "source": [
    "A=[[1,1,0],[1,0,1],[0,0,0]]\n",
    "for i in range(len(A)):\n",
    "#     print(\"Value i - \",i)\n",
    "    A[i] = A[i][::-1]\n",
    "    print(A[i])\n",
    "    for j in range(len(A[i])):\n",
    "        A[i][j] = 1 - A[i][j]\n",
    "        print(A[i][j])\n",
    "        print(A)"
   ]
  },
  {
   "cell_type": "code",
   "execution_count": null,
   "id": "67ba427e",
   "metadata": {},
   "outputs": [],
   "source": []
  }
 ],
 "metadata": {
  "kernelspec": {
   "display_name": "Python 3 (ipykernel)",
   "language": "python",
   "name": "python3"
  },
  "language_info": {
   "codemirror_mode": {
    "name": "ipython",
    "version": 3
   },
   "file_extension": ".py",
   "mimetype": "text/x-python",
   "name": "python",
   "nbconvert_exporter": "python",
   "pygments_lexer": "ipython3",
   "version": "3.10.4"
  }
 },
 "nbformat": 4,
 "nbformat_minor": 5
}

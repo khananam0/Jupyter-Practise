{
 "cells": [
  {
   "cell_type": "code",
   "execution_count": 25,
   "id": "97e91324",
   "metadata": {},
   "outputs": [
    {
     "name": "stdout",
     "output_type": "stream",
     "text": [
      "{'a': 2, 'b': 1, 'c': 101}\n",
      "{'a': 1, 'b': 0, 'c': 200}\n",
      "{'a': 5, 'b': 100, 'c': 5}\n"
     ]
    }
   ],
   "source": [
    "abc=[{\"a\":2,\"b\":1,\"c\":101},{\"a\":1,\"b\":0,\"c\":200},{\"a\":5,\"b\":100,\"c\":5}]\n",
    "count=0\n",
    "val=[]\n",
    "for i in abc:\n",
    "    print(i)\n",
    "\n",
    "#     if i[\"c\"]>0:\n",
    "#         val.append(i)\n",
    "        "
   ]
  },
  {
   "cell_type": "code",
   "execution_count": 10,
   "id": "ae762df4",
   "metadata": {},
   "outputs": [
    {
     "name": "stdout",
     "output_type": "stream",
     "text": [
      "3\n",
      "2\n",
      "1\n",
      "4\n"
     ]
    }
   ],
   "source": [
    "a=[\"bmw\",\"bmw\",\"bmw\",\"Ferrari\",\"Ferrari\",\"b\",\"c\",\"c\",\"c\",\"c\"]\n",
    "a.count(\"bmw\")\n",
    "b=[]\n",
    "for i in a:\n",
    "    if i not in b:\n",
    "        b.append(i)\n",
    "        \n",
    "for j in b:\n",
    "    print(a.count(j))\n"
   ]
  },
  {
   "cell_type": "code",
   "execution_count": 20,
   "id": "ea2afc14",
   "metadata": {},
   "outputs": [
    {
     "name": "stdout",
     "output_type": "stream",
     "text": [
      "{'bmw': 3, 'Ferrari': 2, 'b': 1, 'c': 4}\n"
     ]
    }
   ],
   "source": [
    "a=[\"bmw\",\"bmw\",\"bmw\",\"Ferrari\",\"Ferrari\",\"b\",\"c\",\"c\",\"c\",\"c\"]\n",
    "dic={}\n",
    "for i in a:\n",
    "    b=a.count(i)\n",
    "    dic[i]=b\n",
    "print(dic)"
   ]
  },
  {
   "cell_type": "code",
   "execution_count": 25,
   "id": "00f1f3d1",
   "metadata": {},
   "outputs": [
    {
     "name": "stdout",
     "output_type": "stream",
     "text": [
      "Enter Alphabeta\n",
      "Its Vowels\n"
     ]
    }
   ],
   "source": [
    "user = input(\"Enter Alphabet\")\n",
    "vowels = ['a','e','i','o','u']\n",
    "if user.lower() in vowels:\n",
    "    print(\"Its Vowels\")\n",
    "else:\n",
    "    print(\"ITs NOT Vowels\")"
   ]
  },
  {
   "cell_type": "code",
   "execution_count": null,
   "id": "b9fc0f67",
   "metadata": {},
   "outputs": [],
   "source": []
  },
  {
   "cell_type": "code",
   "execution_count": null,
   "id": "695b1b67",
   "metadata": {},
   "outputs": [],
   "source": []
  }
 ],
 "metadata": {
  "kernelspec": {
   "display_name": "Python 3 (ipykernel)",
   "language": "python",
   "name": "python3"
  },
  "language_info": {
   "codemirror_mode": {
    "name": "ipython",
    "version": 3
   },
   "file_extension": ".py",
   "mimetype": "text/x-python",
   "name": "python",
   "nbconvert_exporter": "python",
   "pygments_lexer": "ipython3",
   "version": "3.10.4"
  }
 },
 "nbformat": 4,
 "nbformat_minor": 5
}
